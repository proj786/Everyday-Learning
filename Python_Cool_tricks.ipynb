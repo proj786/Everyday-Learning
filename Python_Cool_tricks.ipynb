{
 "cells": [
  {
   "cell_type": "markdown",
   "id": "743ddbc0-8628-45ee-9fd0-837617dab62f",
   "metadata": {},
   "source": [
    "## Enumerate "
   ]
  },
  {
   "cell_type": "code",
   "execution_count": 3,
   "id": "a5a01c8b-ff95-4637-8188-304e4ac83b07",
   "metadata": {},
   "outputs": [
    {
     "name": "stdout",
     "output_type": "stream",
     "text": [
      "0 Python\n",
      "1 is\n",
      "2 fun\n"
     ]
    }
   ],
   "source": [
    "vals =['Python' ,'is','fun']\n",
    "\n",
    "for i in range(len(vals)):\n",
    "    print(i, vals[i])"
   ]
  },
  {
   "cell_type": "code",
   "execution_count": 4,
   "id": "961f2f9b-195c-446e-8ee0-27c78743c46d",
   "metadata": {},
   "outputs": [
    {
     "name": "stdout",
     "output_type": "stream",
     "text": [
      "0 Python\n",
      "1 is\n",
      "2 fun\n"
     ]
    }
   ],
   "source": [
    "for idx , val in enumerate(vals):\n",
    "    print(idx,val)\n",
    "    "
   ]
  },
  {
   "cell_type": "code",
   "execution_count": null,
   "id": "f1c6ea3f-1861-4982-acbe-36ed2fb7f23a",
   "metadata": {},
   "outputs": [],
   "source": []
  },
  {
   "cell_type": "markdown",
   "id": "4a32b4dc-910a-43a8-bd4a-d158d9fe4a5e",
   "metadata": {},
   "source": [
    "## Ternary Operator"
   ]
  },
  {
   "cell_type": "code",
   "execution_count": 5,
   "id": "0ba82b44-78d3-4a5c-a2ae-86b15b9686c1",
   "metadata": {},
   "outputs": [
    {
     "name": "stdout",
     "output_type": "stream",
     "text": [
      "20\n"
     ]
    }
   ],
   "source": [
    "amount =100\n",
    "if amount > 50 :\n",
    "    raise_amount = 20\n",
    "else :\n",
    "    raise_amount = 10 \n",
    "\n",
    "print(raise_amount)"
   ]
  },
  {
   "cell_type": "code",
   "execution_count": 6,
   "id": "51e43df4-9ac7-4860-b554-5ecf481ef236",
   "metadata": {},
   "outputs": [
    {
     "name": "stdout",
     "output_type": "stream",
     "text": [
      "20\n"
     ]
    }
   ],
   "source": [
    "raise_amount1 = 20 if amount > 50 else 10\n",
    "\n",
    "print(raise_amount1)"
   ]
  },
  {
   "cell_type": "code",
   "execution_count": null,
   "id": "ae0df579-6e5e-42fd-95dc-1d0482c90e0d",
   "metadata": {},
   "outputs": [],
   "source": []
  },
  {
   "cell_type": "markdown",
   "id": "02652d56-25ca-4900-bf6b-633f38286938",
   "metadata": {},
   "source": [
    "## Comprehensions"
   ]
  },
  {
   "cell_type": "code",
   "execution_count": 7,
   "id": "d0890203-d4e3-41d3-aed7-7a942019b94d",
   "metadata": {},
   "outputs": [
    {
     "data": {
      "text/plain": [
       "[1, 4, 9, 16, 25]"
      ]
     },
     "execution_count": 7,
     "metadata": {},
     "output_type": "execute_result"
    }
   ],
   "source": [
    "squares = []\n",
    "for i in range(1,6):\n",
    "    squares.append(i**2)\n",
    "\n",
    "squares"
   ]
  },
  {
   "cell_type": "code",
   "execution_count": 8,
   "id": "880f408b-94c8-4f8f-be6c-66882ce7ceba",
   "metadata": {},
   "outputs": [
    {
     "data": {
      "text/plain": [
       "[1, 4, 9, 16, 25]"
      ]
     },
     "execution_count": 8,
     "metadata": {},
     "output_type": "execute_result"
    }
   ],
   "source": [
    "squares = [i**2 for i in range(1,6)]\n",
    "squares"
   ]
  },
  {
   "cell_type": "code",
   "execution_count": 13,
   "id": "2f8e825e-b3fa-428c-899a-5512f2156276",
   "metadata": {},
   "outputs": [
    {
     "data": {
      "text/plain": [
       "['Even', 'Odd', 'Even', 'Odd', 'Even', 'Odd', 'Even', 'Odd', 'Even', 'Odd']"
      ]
     },
     "execution_count": 13,
     "metadata": {},
     "output_type": "execute_result"
    }
   ],
   "source": [
    "even_odd_list =['Even' if num %2 ==0 else 'Odd' \n",
    "                for num in range(10)]\n",
    "even_odd_list"
   ]
  },
  {
   "cell_type": "code",
   "execution_count": null,
   "id": "4f4561fb-cd14-41e6-b18a-5da97b3b06cd",
   "metadata": {},
   "outputs": [],
   "source": []
  },
  {
   "cell_type": "markdown",
   "id": "9cf3b887-1b0a-4192-a16a-0f257a04a253",
   "metadata": {},
   "source": [
    "## Itertools"
   ]
  },
  {
   "cell_type": "code",
   "execution_count": 14,
   "id": "b3d4cf39-2a56-4ac6-94b0-a1ca33cc1d8a",
   "metadata": {},
   "outputs": [
    {
     "name": "stdout",
     "output_type": "stream",
     "text": [
      "Red S\n",
      "Red M\n",
      "Red L\n",
      "Green S\n",
      "Green M\n",
      "Green L\n"
     ]
    }
   ],
   "source": [
    "colors =['Red','Green']\n",
    "size =['S','M','L']\n",
    "\n",
    "for i in colors:\n",
    "    for j in size:\n",
    "        print(i,j)"
   ]
  },
  {
   "cell_type": "code",
   "execution_count": 15,
   "id": "0ae58a31-e648-41b1-b692-344225a431c7",
   "metadata": {},
   "outputs": [
    {
     "name": "stdout",
     "output_type": "stream",
     "text": [
      "('Red', 'S')\n",
      "('Red', 'M')\n",
      "('Red', 'L')\n",
      "('Green', 'S')\n",
      "('Green', 'M')\n",
      "('Green', 'L')\n"
     ]
    }
   ],
   "source": [
    "from itertools import product\n",
    "\n",
    "for i in product(colors,size):\n",
    "    print(i)"
   ]
  },
  {
   "cell_type": "code",
   "execution_count": null,
   "id": "bf1b4a2a-e1cf-4b00-838e-760e4c54925b",
   "metadata": {},
   "outputs": [],
   "source": []
  }
 ],
 "metadata": {
  "kernelspec": {
   "display_name": "Python 3 (ipykernel)",
   "language": "python",
   "name": "python3"
  },
  "language_info": {
   "codemirror_mode": {
    "name": "ipython",
    "version": 3
   },
   "file_extension": ".py",
   "mimetype": "text/x-python",
   "name": "python",
   "nbconvert_exporter": "python",
   "pygments_lexer": "ipython3",
   "version": "3.11.7"
  }
 },
 "nbformat": 4,
 "nbformat_minor": 5
}
