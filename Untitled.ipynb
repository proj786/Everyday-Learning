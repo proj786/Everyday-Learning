{
 "cells": [
  {
   "cell_type": "code",
   "execution_count": 1,
   "id": "819df606-5408-4c31-87a1-46aed3d54eb4",
   "metadata": {},
   "outputs": [
    {
     "ename": "ImportError",
     "evalue": "cannot import name 'greetings' from 'my_package' (unknown location)",
     "output_type": "error",
     "traceback": [
      "\u001b[1;31m---------------------------------------------------------------------------\u001b[0m",
      "\u001b[1;31mImportError\u001b[0m                               Traceback (most recent call last)",
      "Cell \u001b[1;32mIn[1], line 1\u001b[0m\n\u001b[1;32m----> 1\u001b[0m \u001b[38;5;28;01mfrom\u001b[39;00m \u001b[38;5;21;01mmy_package\u001b[39;00m \u001b[38;5;28;01mimport\u001b[39;00m greetings\n",
      "\u001b[1;31mImportError\u001b[0m: cannot import name 'greetings' from 'my_package' (unknown location)"
     ]
    }
   ],
   "source": [
    "from my_package import greetings"
   ]
  },
  {
   "cell_type": "code",
   "execution_count": null,
   "id": "cac16bee-e74d-4fb1-9138-988dc5dd4260",
   "metadata": {},
   "outputs": [],
   "source": []
  }
 ],
 "metadata": {
  "kernelspec": {
   "display_name": "Python 3 (ipykernel)",
   "language": "python",
   "name": "python3"
  },
  "language_info": {
   "codemirror_mode": {
    "name": "ipython",
    "version": 3
   },
   "file_extension": ".py",
   "mimetype": "text/x-python",
   "name": "python",
   "nbconvert_exporter": "python",
   "pygments_lexer": "ipython3",
   "version": "3.11.7"
  }
 },
 "nbformat": 4,
 "nbformat_minor": 5
}
